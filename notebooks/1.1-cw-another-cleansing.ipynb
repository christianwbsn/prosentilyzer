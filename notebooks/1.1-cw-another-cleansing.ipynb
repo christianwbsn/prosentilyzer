{
 "cells": [
  {
   "cell_type": "code",
   "execution_count": 1,
   "metadata": {},
   "outputs": [],
   "source": [
    "import pandas as pd\n",
    "import numpy as np\n",
    "import string\n",
    "import re\n",
    "from collections import Counter"
   ]
  },
  {
   "cell_type": "code",
   "execution_count": 2,
   "metadata": {},
   "outputs": [],
   "source": [
    "raw = pd.read_csv( \"../data/interim/lazada_review_clean_v2.0_without_stop.csv\")\n",
    "slang_words = pd.read_csv(\"../data/external/kbba_ID.txt\",\n",
    "                        sep=\"\\t\", header=None)\n",
    "slang = pd.read_csv(\"../data/external/slangword_ID.txt\",\n",
    "                        sep=\":\", header=None)\n",
    "baku_words = pd.read_csv(\"../data/external/katabaku_ID.txt\",\n",
    "                        sep=\"|\", header=None)\n",
    "baku_words.columns = [1,0]\n",
    "slang_words = pd.concat([slang_words, slang, baku_words])"
   ]
  },
  {
   "cell_type": "code",
   "execution_count": 3,
   "metadata": {},
   "outputs": [],
   "source": [
    "slang_words.drop_duplicates(inplace=True)\n",
    "slang_words = dict(zip(slang_words[0],slang_words[1]))"
   ]
  },
  {
   "cell_type": "code",
   "execution_count": 4,
   "metadata": {},
   "outputs": [
    {
     "name": "stdout",
     "output_type": "stream",
     "text": [
      "<class 'pandas.core.frame.DataFrame'>\n",
      "RangeIndex: 19937 entries, 0 to 19936\n",
      "Data columns (total 4 columns):\n",
      "rating        19937 non-null int64\n",
      "review        19937 non-null object\n",
      "avg_word      19937 non-null float64\n",
      "word_count    19937 non-null int64\n",
      "dtypes: float64(1), int64(2), object(1)\n",
      "memory usage: 623.1+ KB\n",
      "None\n"
     ]
    }
   ],
   "source": [
    "print(raw.info())"
   ]
  },
  {
   "cell_type": "code",
   "execution_count": 5,
   "metadata": {},
   "outputs": [
    {
     "data": {
      "text/plain": [
       "\"['tidak' 'sia' 'sia' 'susah' 'payah' 'ikutan' 'flash sale' 'akhir' 'dapat'\\n 'juga' 'walaupun' 'harga' 'naik' 'turunin' 'lagi' 'dong' 'gara'\\n 'secara keseluruhan' 'ok' 'mantap' 'terima kasih' 'lazada' 'terima kasih'\\n 'xiaomi' 'redmi' 'lima' 'a']\""
      ]
     },
     "execution_count": 5,
     "metadata": {},
     "output_type": "execute_result"
    }
   ],
   "source": [
    "raw['review'][2]"
   ]
  },
  {
   "cell_type": "code",
   "execution_count": 6,
   "metadata": {},
   "outputs": [],
   "source": [
    "def remove_numeric(review):\n",
    "    return re.sub(\"\\d\",\" \", review)\n",
    "\n",
    "raw['review'] = raw['review'].apply(remove_numeric)"
   ]
  },
  {
   "cell_type": "code",
   "execution_count": 7,
   "metadata": {},
   "outputs": [
    {
     "data": {
      "text/html": [
       "<div>\n",
       "<style scoped>\n",
       "    .dataframe tbody tr th:only-of-type {\n",
       "        vertical-align: middle;\n",
       "    }\n",
       "\n",
       "    .dataframe tbody tr th {\n",
       "        vertical-align: top;\n",
       "    }\n",
       "\n",
       "    .dataframe thead th {\n",
       "        text-align: right;\n",
       "    }\n",
       "</style>\n",
       "<table border=\"1\" class=\"dataframe\">\n",
       "  <thead>\n",
       "    <tr style=\"text-align: right;\">\n",
       "      <th></th>\n",
       "      <th>rating</th>\n",
       "      <th>review</th>\n",
       "      <th>avg_word</th>\n",
       "      <th>word_count</th>\n",
       "    </tr>\n",
       "  </thead>\n",
       "  <tbody>\n",
       "    <tr>\n",
       "      <th>0</th>\n",
       "      <td>1</td>\n",
       "      <td>['pengiriman' 'melalui' 'ninja' 'sangat' 'lama...</td>\n",
       "      <td>5.571429</td>\n",
       "      <td>21</td>\n",
       "    </tr>\n",
       "    <tr>\n",
       "      <th>1</th>\n",
       "      <td>1</td>\n",
       "      <td>['pesananku' 'pada' 'nomor' 'order' 'ini' 'ter...</td>\n",
       "      <td>5.193878</td>\n",
       "      <td>98</td>\n",
       "    </tr>\n",
       "    <tr>\n",
       "      <th>2</th>\n",
       "      <td>5</td>\n",
       "      <td>['tidak' 'sia' 'sia' 'susah' 'payah' 'ikutan' ...</td>\n",
       "      <td>5.888889</td>\n",
       "      <td>27</td>\n",
       "    </tr>\n",
       "    <tr>\n",
       "      <th>3</th>\n",
       "      <td>5</td>\n",
       "      <td>['setelah' 'tujuh' 'kali' 'gagal' 'flash sale'...</td>\n",
       "      <td>5.962963</td>\n",
       "      <td>27</td>\n",
       "    </tr>\n",
       "    <tr>\n",
       "      <th>4</th>\n",
       "      <td>5</td>\n",
       "      <td>['saya' 'kurang' 'setuju' 'dengan' 'flash sale...</td>\n",
       "      <td>5.620690</td>\n",
       "      <td>58</td>\n",
       "    </tr>\n",
       "  </tbody>\n",
       "</table>\n",
       "</div>"
      ],
      "text/plain": [
       "   rating                                             review  avg_word  \\\n",
       "0       1  ['pengiriman' 'melalui' 'ninja' 'sangat' 'lama...  5.571429   \n",
       "1       1  ['pesananku' 'pada' 'nomor' 'order' 'ini' 'ter...  5.193878   \n",
       "2       5  ['tidak' 'sia' 'sia' 'susah' 'payah' 'ikutan' ...  5.888889   \n",
       "3       5  ['setelah' 'tujuh' 'kali' 'gagal' 'flash sale'...  5.962963   \n",
       "4       5  ['saya' 'kurang' 'setuju' 'dengan' 'flash sale...  5.620690   \n",
       "\n",
       "   word_count  \n",
       "0          21  \n",
       "1          98  \n",
       "2          27  \n",
       "3          27  \n",
       "4          58  "
      ]
     },
     "execution_count": 7,
     "metadata": {},
     "output_type": "execute_result"
    }
   ],
   "source": [
    "raw.head()"
   ]
  },
  {
   "cell_type": "code",
   "execution_count": 8,
   "metadata": {},
   "outputs": [],
   "source": [
    "def csv_string_to_list(csv_string):\n",
    "    return csv_string[1:-1].split()\n",
    "\n",
    "def string_without_quotes(word_list):\n",
    "    new  = []\n",
    "    for word in word_list:\n",
    "        new.append(word.replace(\"'\",\"\"))\n",
    "    return new\n",
    "                   \n",
    "raw['review'] = raw['review'].apply(csv_string_to_list)\n",
    "raw['review'] = raw['review'].apply(string_without_quotes)"
   ]
  },
  {
   "cell_type": "code",
   "execution_count": 9,
   "metadata": {},
   "outputs": [],
   "source": [
    "def mapping_slang_words(review):\n",
    "    return [slang_words[word] if word in slang_words else word for word in review]\n",
    "raw['review'] = raw['review'].apply(mapping_slang_words)"
   ]
  },
  {
   "cell_type": "code",
   "execution_count": 10,
   "metadata": {},
   "outputs": [
    {
     "data": {
      "text/plain": [
       "0        [pengiriman, melalui, ninja, sangat, lama, jau...\n",
       "1        [pesananku, pada, nomor, pemesanan, ini, terki...\n",
       "2        [tidak, sia, sia, susah, payah, ikutan, flash,...\n",
       "3        [setelah, tujuh, kali, gagal, flash, sale, akh...\n",
       "4        [saya, kurang, setuju, dengan, flash, sale, me...\n",
       "5        [kurir, ninja, express, lambat, kecewa, kenapa...\n",
       "6        [pengiriman, ke, kota, depok, membutuhkan, seb...\n",
       "7        [barang, sudah, sampai, hanya, lama, sekali, l...\n",
       "8        [saran, tolong, pengiriman, paket, saya, janga...\n",
       "9        [telepon, genggam, xiaomi, memang, oke, cepat,...\n",
       "10       [beli, flash, sale, xiaomi, redmi, lima, a, pl...\n",
       "11       [barang, sudah, sampai, secara, cepat, dan, te...\n",
       "12       [proses, waktu, pengiriman, setelah, pesanan, ...\n",
       "13       [barang, bagus, sekali, garansi, tam, dikirim,...\n",
       "14       [bulan, lalu, dapat, redmi, lima, plus, emas, ...\n",
       "15       [lazada, itu, kadang, lama, pengiriman, kadang...\n",
       "16       [ini, pertama, kali, dapat, flash, sale, baran...\n",
       "17       [pengiriman, cepat, kurir, ramah, lazada, pali...\n",
       "18       [bismillah, alhamdulilah, barang, telah, diter...\n",
       "19       [flash, sale, terbaik, pesan, kemarin, hari, i...\n",
       "20       [mohon, lain, kali, ke, depan, jangan, tertawa...\n",
       "21       [hari, minggu, mas, kurir, tetap, nganterin, b...\n",
       "22       [waktu, flash, sale, dapat, tiga, buah, hanya,...\n",
       "23       [meskipun, tadi, kurir, minta, mau, tapi, mema...\n",
       "24       [jual, secara, satu, satu, i, banding, dengan,...\n",
       "25       [jadi, saya, bingung, harus, kembalikan, dana,...\n",
       "26       [sebanyak, sepuluh, unit, telepon, genggam, xi...\n",
       "27       [terima, kasih, berkat, lazada, saya, bisa, me...\n",
       "28       [sudah, kesekian, kali, ikut, flash, sale, alh...\n",
       "29       [barang, sampai, dengan, aman, meskipun, siste...\n",
       "                               ...                        \n",
       "19907    [penjelasan, seadanya, barang, kualitas, stand...\n",
       "19908    [kualitas, barang, tidak, sesuai, dengan, hara...\n",
       "19909    [barang, sudah, sampai, penjelasan, rapi, han,...\n",
       "19910                          [puas, dengan, produk, nya]\n",
       "19911    [dompet, oke, dan, murah, lagi, terima, kasih,...\n",
       "19912    [bagus, untuk, harga, begitu, tapi, posisi, te...\n",
       "19913                                       [bagus, semua]\n",
       "19914    [barang, bagus, sesuai, harga, tapi, tolong, d...\n",
       "19915      [bagus, saya, suka, hanya, kurir, tidak, sopan]\n",
       "19916                           [sesuailah, dengan, harga]\n",
       "19917    [namun, kebanyakan, ini, dompet, tipe, cewek, ...\n",
       "19918               [direkomendasikan, dan, cepat, sampai]\n",
       "19919    [memang, gambar, barang, bagus, kiriman, sesua...\n",
       "19920    [tampak, depan, bagus, tapi, cardholder, agak,...\n",
       "19921    [barang, sudah, sampai, dan, sesuai, deskripsi...\n",
       "19922                                     [puas, pokoknya]\n",
       "19923    [sesuai, gambar, bahan, bagus, harga, standar,...\n",
       "19924    [bagus, halus, dan, sesuai, gambar, bagus, gar...\n",
       "19925    [barang, sudah, sampai, dan, diterima, dengan,...\n",
       "19926    [kualitas, barang, yang, terima, bagus, tetapi...\n",
       "19927    [barang, bagus, hanya, sedikit, jelek, jadian,...\n",
       "19928             [sesuai, dengan, pesanan, terima, kasih]\n",
       "19929    [datang, cepat, sekali, direkomendasikan, sele...\n",
       "19930    [bagus, jadian, rapi, tapi, kalau, buat, cowok...\n",
       "19931                                      [bagus, sekali]\n",
       "19932    [tidak, sesuai, gambar, beda, sekali, barang, ...\n",
       "19933              [dompet, tebal, sesuai, sama, di, foto]\n",
       "19934    [barang, sudah, di, terima, bagus, terima, kas...\n",
       "19935      [barang, lumayan, bagus, sesuai, dengan, harga]\n",
       "19936    [lumayan, sesuai, dengan, gambar, penjelasan, ...\n",
       "Name: review, Length: 19937, dtype: object"
      ]
     },
     "execution_count": 10,
     "metadata": {},
     "output_type": "execute_result"
    }
   ],
   "source": [
    "raw['review']"
   ]
  },
  {
   "cell_type": "code",
   "execution_count": 11,
   "metadata": {},
   "outputs": [],
   "source": [
    "def remove_single_alphabet_only(review):\n",
    "    return [word for word in review if word not in string.ascii_lowercase]\n",
    "\n",
    "def remove_too_short_words(review):\n",
    "    return [word for word in review if len(word) > 2]"
   ]
  },
  {
   "cell_type": "code",
   "execution_count": 12,
   "metadata": {},
   "outputs": [],
   "source": [
    "raw['review'] = raw['review'].apply(remove_single_alphabet_only)\n",
    "raw['review'] = raw['review'].apply(remove_too_short_words)"
   ]
  },
  {
   "cell_type": "code",
   "execution_count": 13,
   "metadata": {},
   "outputs": [],
   "source": [
    "raw = raw.dropna(subset=['review'],how='all')\n",
    "raw = raw[raw['review'].map(len) > 0]\n",
    "raw['word_count'] = raw['review'].map(len)\n",
    "def convert_list_to_string(word_list):\n",
    "    return \",\".join(word_list)\n",
    "raw['review'] = raw['review'].apply(convert_list_to_string)\n",
    "raw = raw.dropna(subset=['review'],how='all')\n",
    "raw = raw[raw['review'].map(len) > 0]"
   ]
  },
  {
   "cell_type": "code",
   "execution_count": 14,
   "metadata": {},
   "outputs": [
    {
     "name": "stdout",
     "output_type": "stream",
     "text": [
      "<class 'pandas.core.frame.DataFrame'>\n",
      "Int64Index: 19900 entries, 0 to 19936\n",
      "Data columns (total 4 columns):\n",
      "rating        19900 non-null int64\n",
      "review        19900 non-null object\n",
      "avg_word      19900 non-null float64\n",
      "word_count    19900 non-null int64\n",
      "dtypes: float64(1), int64(2), object(1)\n",
      "memory usage: 777.3+ KB\n"
     ]
    }
   ],
   "source": [
    "raw.info()"
   ]
  },
  {
   "cell_type": "code",
   "execution_count": 15,
   "metadata": {},
   "outputs": [],
   "source": [
    "def avg_word(words):\n",
    "  return (sum(len(word) for word in words)/len(words))\n",
    "\n",
    "raw['avg_word'] = raw['review'].apply(lambda x: avg_word(x.split(\",\")))"
   ]
  },
  {
   "cell_type": "code",
   "execution_count": 16,
   "metadata": {},
   "outputs": [],
   "source": [
    "raw.to_csv(\"../data/interim/lazada_review_clean_v2.0_2.csv\", index=False)"
   ]
  },
  {
   "cell_type": "code",
   "execution_count": 17,
   "metadata": {},
   "outputs": [
    {
     "data": {
      "text/plain": [
       "tidak     4941\n",
       "dan       4308\n",
       "barang    4304\n",
       "sampai    3817\n",
       "terima    3721\n",
       "yang      3668\n",
       "bagus     3641\n",
       "kasih     3569\n",
       "cepat     3447\n",
       "sudah     3422\n",
       "dtype: int64"
      ]
     },
     "execution_count": 17,
     "metadata": {},
     "output_type": "execute_result"
    }
   ],
   "source": [
    "most_common = pd.Series(''.join(raw['review']).split(\",\")).value_counts()[:10]\n",
    "most_common"
   ]
  },
  {
   "cell_type": "code",
   "execution_count": 18,
   "metadata": {},
   "outputs": [],
   "source": [
    "def add_coma(review):\n",
    "    return review + ','\n",
    "raw['review'] = raw['review'].apply(add_coma)"
   ]
  },
  {
   "cell_type": "code",
   "execution_count": 19,
   "metadata": {},
   "outputs": [
    {
     "data": {
      "text/plain": [
       "[('suhariandhy', 1),\n",
       " ('gilap', 1),\n",
       " ('begi', 1),\n",
       " ('selaras', 1),\n",
       " ('pnirimn', 1),\n",
       " ('kuningan', 1),\n",
       " ('salah tingkah', 1),\n",
       " ('cardholder', 1),\n",
       " ('garuda', 1),\n",
       " ('ckckckck', 1)]"
      ]
     },
     "execution_count": 19,
     "metadata": {},
     "output_type": "execute_result"
    }
   ],
   "source": [
    "least_common = Counter(\"\".join(raw[\"review\"]).split(\",\")).most_common()[-10:]\n",
    "least_common"
   ]
  }
 ],
 "metadata": {
  "kernelspec": {
   "display_name": "Python 3",
   "language": "python",
   "name": "python3"
  },
  "language_info": {
   "codemirror_mode": {
    "name": "ipython",
    "version": 3
   },
   "file_extension": ".py",
   "mimetype": "text/x-python",
   "name": "python",
   "nbconvert_exporter": "python",
   "pygments_lexer": "ipython3",
   "version": "3.6.5"
  }
 },
 "nbformat": 4,
 "nbformat_minor": 2
}
