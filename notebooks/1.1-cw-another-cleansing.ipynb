{
 "cells": [
  {
   "cell_type": "code",
   "execution_count": 1,
   "metadata": {},
   "outputs": [],
   "source": [
    "import pandas as pd\n",
    "import numpy as np\n",
    "import string\n",
    "import re\n",
    "from collections import Counter"
   ]
  },
  {
   "cell_type": "code",
   "execution_count": 2,
   "metadata": {},
   "outputs": [],
   "source": [
    "raw = pd.read_csv( \"../data/interim/lazada_review_clean_1.csv\")\n",
    "slang_words = pd.read_csv(\"../data/external/kbba_ID.txt\",\n",
    "                        sep=\"\\t\", header=None)\n",
    "slang = pd.read_csv(\"../data/external/slangword_ID.txt\",\n",
    "                        sep=\":\", header=None)\n",
    "slang_words = pd.concat([slang_words, slang])"
   ]
  },
  {
   "cell_type": "code",
   "execution_count": 3,
   "metadata": {},
   "outputs": [],
   "source": [
    "slang_words.drop_duplicates(inplace=True)\n",
    "slang_words = dict(zip(slang_words[0],slang_words[1]))"
   ]
  },
  {
   "cell_type": "code",
   "execution_count": 4,
   "metadata": {},
   "outputs": [
    {
     "name": "stdout",
     "output_type": "stream",
     "text": [
      "<class 'pandas.core.frame.DataFrame'>\n",
      "RangeIndex: 19872 entries, 0 to 19871\n",
      "Data columns (total 4 columns):\n",
      "rating        19872 non-null int64\n",
      "review        19872 non-null object\n",
      "avg_word      19872 non-null float64\n",
      "word_count    19872 non-null int64\n",
      "dtypes: float64(1), int64(2), object(1)\n",
      "memory usage: 621.1+ KB\n",
      "None\n"
     ]
    }
   ],
   "source": [
    "print(raw.info())"
   ]
  },
  {
   "cell_type": "code",
   "execution_count": 5,
   "metadata": {},
   "outputs": [
    {
     "data": {
      "text/plain": [
       "\"['pengiriman', 'ninja', 'sangat', 'lama', 'jauh', 'berbeda', 'kurir', 'internal', 'lazada', 'baik', 'kasih', 'opsi', 'pelanggan', 'bisa', 'memilih', 'kurir']\""
      ]
     },
     "execution_count": 5,
     "metadata": {},
     "output_type": "execute_result"
    }
   ],
   "source": [
    "raw['review'][0]"
   ]
  },
  {
   "cell_type": "code",
   "execution_count": 6,
   "metadata": {},
   "outputs": [
    {
     "data": {
      "text/html": [
       "<div>\n",
       "<style scoped>\n",
       "    .dataframe tbody tr th:only-of-type {\n",
       "        vertical-align: middle;\n",
       "    }\n",
       "\n",
       "    .dataframe tbody tr th {\n",
       "        vertical-align: top;\n",
       "    }\n",
       "\n",
       "    .dataframe thead th {\n",
       "        text-align: right;\n",
       "    }\n",
       "</style>\n",
       "<table border=\"1\" class=\"dataframe\">\n",
       "  <thead>\n",
       "    <tr style=\"text-align: right;\">\n",
       "      <th></th>\n",
       "      <th>rating</th>\n",
       "      <th>review</th>\n",
       "      <th>avg_word</th>\n",
       "      <th>word_count</th>\n",
       "    </tr>\n",
       "  </thead>\n",
       "  <tbody>\n",
       "    <tr>\n",
       "      <th>0</th>\n",
       "      <td>1</td>\n",
       "      <td>['pengiriman', 'ninja', 'sangat', 'lama', 'jau...</td>\n",
       "      <td>5.812500</td>\n",
       "      <td>16</td>\n",
       "    </tr>\n",
       "    <tr>\n",
       "      <th>1</th>\n",
       "      <td>1</td>\n",
       "      <td>['pesananku', 'nomor', 'order', 'terkirim', 'b...</td>\n",
       "      <td>6.152985</td>\n",
       "      <td>268</td>\n",
       "    </tr>\n",
       "    <tr>\n",
       "      <th>2</th>\n",
       "      <td>5</td>\n",
       "      <td>['tidak', 'sia', 'sia', 'susah', 'payah', 'iku...</td>\n",
       "      <td>6.105263</td>\n",
       "      <td>19</td>\n",
       "    </tr>\n",
       "    <tr>\n",
       "      <th>3</th>\n",
       "      <td>5</td>\n",
       "      <td>['tujuh', 'kali', 'gagal', 'flashsale', 'padah...</td>\n",
       "      <td>6.125000</td>\n",
       "      <td>16</td>\n",
       "    </tr>\n",
       "    <tr>\n",
       "      <th>4</th>\n",
       "      <td>5</td>\n",
       "      <td>['kurang', 'setuju', 'flash sale', 'sih', 'str...</td>\n",
       "      <td>6.678571</td>\n",
       "      <td>28</td>\n",
       "    </tr>\n",
       "  </tbody>\n",
       "</table>\n",
       "</div>"
      ],
      "text/plain": [
       "   rating                                             review  avg_word  \\\n",
       "0       1  ['pengiriman', 'ninja', 'sangat', 'lama', 'jau...  5.812500   \n",
       "1       1  ['pesananku', 'nomor', 'order', 'terkirim', 'b...  6.152985   \n",
       "2       5  ['tidak', 'sia', 'sia', 'susah', 'payah', 'iku...  6.105263   \n",
       "3       5  ['tujuh', 'kali', 'gagal', 'flashsale', 'padah...  6.125000   \n",
       "4       5  ['kurang', 'setuju', 'flash sale', 'sih', 'str...  6.678571   \n",
       "\n",
       "   word_count  \n",
       "0          16  \n",
       "1         268  \n",
       "2          19  \n",
       "3          16  \n",
       "4          28  "
      ]
     },
     "execution_count": 6,
     "metadata": {},
     "output_type": "execute_result"
    }
   ],
   "source": [
    "raw.head()"
   ]
  },
  {
   "cell_type": "code",
   "execution_count": 7,
   "metadata": {},
   "outputs": [],
   "source": [
    "def csv_string_to_list(csv_string):\n",
    "    return csv_string[1:-1].split(\", \")\n",
    "\n",
    "def string_without_quotes(word_list):\n",
    "    new  = []\n",
    "    for word in word_list:\n",
    "        new.append(word.replace(\"'\",\"\"))\n",
    "    return new\n",
    "                   \n",
    "raw['review'] = raw['review'].apply(csv_string_to_list)\n",
    "raw['review'] = raw['review'].apply(string_without_quotes)"
   ]
  },
  {
   "cell_type": "code",
   "execution_count": 8,
   "metadata": {},
   "outputs": [],
   "source": [
    "def mapping_slang_words(review):\n",
    "    return [slang_words[word] if word in slang_words else word for word in review]\n",
    "raw['review'] = raw['review'].apply(mapping_slang_words)"
   ]
  },
  {
   "cell_type": "code",
   "execution_count": 9,
   "metadata": {},
   "outputs": [
    {
     "data": {
      "text/plain": [
       "0        [pengiriman, ninja, sangat, lama, jauh, berbed...\n",
       "1        [pesananku, nomor, order, terkirim, baik, nomo...\n",
       "2        [tidak, sia, sia, susah, payah, ikutan, flashs...\n",
       "3        [tujuh, kali, gagal, flashsale, padahal, nga, ...\n",
       "4        [kurang, setuju, flash sale, sih, strategi, ma...\n",
       "5        [kurir, ninja, express, lambat, kecewa, sih, l...\n",
       "6        [pengiriman, kota, depok, membutuhkan, sebelas...\n",
       "7        [barang, cuma, lama, lebih baik, pakai, eksped...\n",
       "8        [saran, tolong, pengiriman, paket, jangan, jas...\n",
       "9        [telepon genggam, xiaomi, oke, cepat, kurir, r...\n",
       "10       [beli, flash, sale, xiaomi, redmi, powerbank, ...\n",
       "11       [barangnya, cepat, tepat, sayang, pesan, baran...\n",
       "12       [proses, pengiriman, pesanan, sangat, cepat, k...\n",
       "13       [barang, bagus, garansi, tam, dikirim, jam, ba...\n",
       "14       [dapat, redmi, plus, emas, hitam, pagi, redmi,...\n",
       "15       [lazada, kadang, lama, mengiriminya, kadang, c...\n",
       "16       [kali, flash, sale, barang, aman, rapi, pengir...\n",
       "17       [pengiriman, cepat, kurir, ramah, lazada, top,...\n",
       "18       [bismillah, alhamdulilah, barang, diterima, ba...\n",
       "19       [flash, sale, terbaik, pesan, kemarin, langsun...\n",
       "20       [mohon, kali, depannya, hanya, bergantung, age...\n",
       "21       [minggu, mas, kurir, tetap, nganterin, barang,...\n",
       "22       [flash, sale, tigapcs, cuma, hanya, buah, sang...\n",
       "23       [kulitnya, tugasnya, mengantarkan, barang, pel...\n",
       "24       [jualnya, jualnya, satusembilan, puluh, sembil...\n",
       "25       [bingung, balikin, dana, voucher, balikin, dan...\n",
       "26       [sepuluh, unit, telepon genggam, xiaomi, redmi...\n",
       "27       [terima kasih, berkat, lazada, bisa, mendung, ...\n",
       "28       [kesekian, kali, flash, sale, alhamdulilah, ba...\n",
       "29       [barang, aman, sistem, cash on delivery, butuh...\n",
       "                               ...                        \n",
       "19842    [alakadarnya, barang, kualitas, standar, sesua...\n",
       "19843           [kualitas, barang, tidak, sesuai, harapan]\n",
       "19844           [barang, rapi, han, lumayan, foto, makash]\n",
       "19845                                       [puas, produk]\n",
       "19846    [dompetnya, oke, an, murah, terima, s, lazada,...\n",
       "19847          [bagus, harga, posisi, kartu, beda, gambar]\n",
       "19848                                              [bagus]\n",
       "19849    [barang, bagus, sesuai, harga, tolong, kuat, s...\n",
       "19850          [bagus, suka, cuma, kulitnya, tidak, sopan]\n",
       "19851                                   [sesuailah, harga]\n",
       "19852    [kebanyakan, dompet, tipe, cewek, cowok, meeti...\n",
       "19853                                     [secemen, cepat]\n",
       "19854    [memang, pit, barang, bagus, kiriman, sesuai, ...\n",
       "19855     [tampak, bagus, cardholder, beda, gambar, bagus]\n",
       "19856                  [barang, sesuai, deskripsi, produk]\n",
       "19857                                     [puas, pokoknya]\n",
       "19858    [sesuai, gambar, bahunya, bagus, harga, standa...\n",
       "19859    [bagus, halus, sesuai, gambar, bagus, garuda, ...\n",
       "19860       [barang, diterima, baik, kok, ongkirnya, amat]\n",
       "19861    [kualitas, barang, terima, bagus, dipakai, men...\n",
       "19862    [barang, bagus, cuma, sedikit, jelek, jadian, ...\n",
       "19863                      [sesuai, pesanan, terima kasih]\n",
       "19864    [cepat, sekali, rekomendasi, selera, sukses, l...\n",
       "19865    [bagus, jadian, rapi, kalau, cowok, kebesaran,...\n",
       "19866                                              [bagus]\n",
       "19867    [tidak, sesuai, gambar, beda, barang, kirim, g...\n",
       "19868                        [dompet, tebal, sesuai, foto]\n",
       "19869                 [barang, terima, bagus, tas, lazada]\n",
       "19870              [barang, lumayan, bagus, sesuai, harga]\n",
       "19871    [lumayan, sesuai, gambar, rapi, lumayan, sesua...\n",
       "Name: review, Length: 19872, dtype: object"
      ]
     },
     "execution_count": 9,
     "metadata": {},
     "output_type": "execute_result"
    }
   ],
   "source": [
    "raw['review']"
   ]
  },
  {
   "cell_type": "code",
   "execution_count": 10,
   "metadata": {},
   "outputs": [],
   "source": [
    "def remove_single_alphabet_only(review):\n",
    "    return [word for word in review if word not in string.ascii_lowercase]\n",
    "\n",
    "def remove_too_short_words(review):\n",
    "    return [word for word in review if len(word) > 2]"
   ]
  },
  {
   "cell_type": "code",
   "execution_count": 11,
   "metadata": {},
   "outputs": [],
   "source": [
    "raw['review'] = raw['review'].apply(remove_single_alphabet_only)\n",
    "raw['review'] = raw['review'].apply(remove_too_short_words)"
   ]
  },
  {
   "cell_type": "code",
   "execution_count": 12,
   "metadata": {},
   "outputs": [
    {
     "name": "stdout",
     "output_type": "stream",
     "text": [
      "<class 'pandas.core.frame.DataFrame'>\n",
      "RangeIndex: 19872 entries, 0 to 19871\n",
      "Data columns (total 4 columns):\n",
      "rating        19872 non-null int64\n",
      "review        19872 non-null object\n",
      "avg_word      19872 non-null float64\n",
      "word_count    19872 non-null int64\n",
      "dtypes: float64(1), int64(2), object(1)\n",
      "memory usage: 621.1+ KB\n"
     ]
    }
   ],
   "source": [
    "raw.info()"
   ]
  },
  {
   "cell_type": "code",
   "execution_count": 13,
   "metadata": {},
   "outputs": [],
   "source": [
    "raw = raw.dropna(subset=['review'],how='all')"
   ]
  },
  {
   "cell_type": "code",
   "execution_count": 14,
   "metadata": {},
   "outputs": [
    {
     "name": "stdout",
     "output_type": "stream",
     "text": [
      "<class 'pandas.core.frame.DataFrame'>\n",
      "Int64Index: 19872 entries, 0 to 19871\n",
      "Data columns (total 4 columns):\n",
      "rating        19872 non-null int64\n",
      "review        19872 non-null object\n",
      "avg_word      19872 non-null float64\n",
      "word_count    19872 non-null int64\n",
      "dtypes: float64(1), int64(2), object(1)\n",
      "memory usage: 776.2+ KB\n"
     ]
    }
   ],
   "source": [
    "raw.info()"
   ]
  },
  {
   "cell_type": "code",
   "execution_count": 15,
   "metadata": {},
   "outputs": [],
   "source": [
    "raw = raw.dropna(subset=['review'],how='all')\n",
    "raw = raw[raw['review'].map(len) > 0]\n",
    "def convert_list_to_string(word_list):\n",
    "    return \",\".join(word_list)\n",
    "raw['review'] = raw['review'].apply(convert_list_to_string)\n",
    "raw = raw.dropna(subset=['review'],how='all')\n",
    "raw = raw[raw['review'].map(len) > 0]"
   ]
  },
  {
   "cell_type": "code",
   "execution_count": 16,
   "metadata": {},
   "outputs": [
    {
     "name": "stdout",
     "output_type": "stream",
     "text": [
      "<class 'pandas.core.frame.DataFrame'>\n",
      "Int64Index: 19838 entries, 0 to 19871\n",
      "Data columns (total 4 columns):\n",
      "rating        19838 non-null int64\n",
      "review        19838 non-null object\n",
      "avg_word      19838 non-null float64\n",
      "word_count    19838 non-null int64\n",
      "dtypes: float64(1), int64(2), object(1)\n",
      "memory usage: 774.9+ KB\n"
     ]
    }
   ],
   "source": [
    "raw.info()"
   ]
  },
  {
   "cell_type": "code",
   "execution_count": 17,
   "metadata": {},
   "outputs": [],
   "source": [
    "def standardize_thanks(review):\n",
    "    return re.sub(\"terima,kasih\",\"terima kasih\", review)\n",
    "raw['review'] = raw['review'].apply(standardize_thanks)"
   ]
  },
  {
   "cell_type": "code",
   "execution_count": 18,
   "metadata": {},
   "outputs": [],
   "source": [
    "raw.to_csv(\"../data/interim/lazada_review_clean_2.csv\", index=False)"
   ]
  },
  {
   "cell_type": "code",
   "execution_count": 19,
   "metadata": {},
   "outputs": [
    {
     "data": {
      "text/plain": [
       "tidak           6272\n",
       "barang          4917\n",
       "bagus           4149\n",
       "cepat           3668\n",
       "lazada          3471\n",
       "sesuai          3052\n",
       "terima kasih    2991\n",
       "pengiriman      2576\n",
       "bisa            2162\n",
       "harga           1919\n",
       "dtype: int64"
      ]
     },
     "execution_count": 19,
     "metadata": {},
     "output_type": "execute_result"
    }
   ],
   "source": [
    "most_common = pd.Series(''.join(raw['review']).split(\",\")).value_counts()[:10]\n",
    "most_common"
   ]
  },
  {
   "cell_type": "code",
   "execution_count": 20,
   "metadata": {},
   "outputs": [],
   "source": [
    "def add_coma(review):\n",
    "    return review + ','\n",
    "raw['review'] = raw['review'].apply(add_coma)"
   ]
  },
  {
   "cell_type": "code",
   "execution_count": 21,
   "metadata": {},
   "outputs": [
    {
     "data": {
      "text/plain": [
       "[('jayadelapan', 1),\n",
       " ('selaras', 1),\n",
       " ('resletingnya', 1),\n",
       " ('pnirimn', 1),\n",
       " ('kuningan', 1),\n",
       " ('meetingnya', 1),\n",
       " ('cardholder', 1),\n",
       " ('garuda', 1),\n",
       " ('ckckckck', 1),\n",
       " ('', 1)]"
      ]
     },
     "execution_count": 21,
     "metadata": {},
     "output_type": "execute_result"
    }
   ],
   "source": [
    "least_common = Counter(\"\".join(raw[\"review\"]).split(\",\")).most_common()[-10:]\n",
    "least_common"
   ]
  }
 ],
 "metadata": {
  "kernelspec": {
   "display_name": "Python 3",
   "language": "python",
   "name": "python3"
  },
  "language_info": {
   "codemirror_mode": {
    "name": "ipython",
    "version": 3
   },
   "file_extension": ".py",
   "mimetype": "text/x-python",
   "name": "python",
   "nbconvert_exporter": "python",
   "pygments_lexer": "ipython3",
   "version": "3.6.5"
  }
 },
 "nbformat": 4,
 "nbformat_minor": 2
}
