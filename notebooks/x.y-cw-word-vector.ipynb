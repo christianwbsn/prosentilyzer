{
 "cells": [
  {
   "cell_type": "code",
   "execution_count": 28,
   "metadata": {},
   "outputs": [],
   "source": [
    "import pandas as pd\n",
    "import numpy as np\n",
    "import string\n",
    "import re\n",
    "from collections import Counter"
   ]
  },
  {
   "cell_type": "code",
   "execution_count": 29,
   "metadata": {},
   "outputs": [],
   "source": [
    "raw = pd.read_csv( \"../data/interim/lazada_review_stemmed_v2.0_1.csv\")"
   ]
  },
  {
   "cell_type": "code",
   "execution_count": 30,
   "metadata": {},
   "outputs": [],
   "source": [
    "raw['review'] = raw['review'].apply(lambda x: x.split(\",\"))"
   ]
  },
  {
   "cell_type": "code",
   "execution_count": 31,
   "metadata": {},
   "outputs": [
    {
     "data": {
      "text/plain": [
       "['kirim',\n",
       " 'lalu',\n",
       " 'ninja',\n",
       " 'sangat',\n",
       " 'lama',\n",
       " 'jauh',\n",
       " 'beda',\n",
       " 'dengan',\n",
       " 'kurir',\n",
       " 'internal',\n",
       " 'lazada',\n",
       " 'lebih',\n",
       " 'baik',\n",
       " 'kasih',\n",
       " 'opsi',\n",
       " 'langgan',\n",
       " 'agar',\n",
       " 'bisa',\n",
       " 'pilih',\n",
       " 'kurir']"
      ]
     },
     "execution_count": 31,
     "metadata": {},
     "output_type": "execute_result"
    }
   ],
   "source": [
    "raw['review'][0]"
   ]
  },
  {
   "cell_type": "code",
   "execution_count": 32,
   "metadata": {},
   "outputs": [],
   "source": [
    "import logging\n",
    "logging.basicConfig(format='%(asctime)s : %(levelname)s : %(message)s',\\\n",
    "    level=logging.INFO)"
   ]
  },
  {
   "cell_type": "code",
   "execution_count": 38,
   "metadata": {},
   "outputs": [
    {
     "name": "stdout",
     "output_type": "stream",
     "text": [
      "Training model...\n"
     ]
    }
   ],
   "source": [
    "# Set values for various parameters\n",
    "num_features = 300    # Word vector dimensionality                      \n",
    "min_word_count = 40   # Minimum word count                        \n",
    "num_workers = 4       # Number of threads to run in parallel\n",
    "context = 10          # Context window size                                                                                    \n",
    "downsampling = 1e-3   # Downsample setting for frequent words\n",
    "\n",
    "# Initialize and train the model (this will take some time)\n",
    "from gensim.models import word2vec\n",
    "print(\"Training model...\")\n",
    "sentences = raw['review']"
   ]
  },
  {
   "cell_type": "code",
   "execution_count": 39,
   "metadata": {},
   "outputs": [
    {
     "name": "stderr",
     "output_type": "stream",
     "text": [
      "2018-07-10 22:20:56,353 : INFO : collecting all words and their counts\n",
      "2018-07-10 22:20:56,355 : INFO : PROGRESS: at sentence #0, processed 0 words, keeping 0 word types\n",
      "2018-07-10 22:20:56,387 : INFO : PROGRESS: at sentence #10000, processed 95241 words, keeping 2799 word types\n",
      "2018-07-10 22:20:56,407 : INFO : collected 4668 word types from a corpus of 228695 raw words and 19898 sentences\n",
      "2018-07-10 22:20:56,408 : INFO : Loading a fresh vocabulary\n",
      "2018-07-10 22:20:56,412 : INFO : min_count=40 retains 527 unique words (11% of original 4668, drops 4141)\n",
      "2018-07-10 22:20:56,413 : INFO : min_count=40 leaves 209230 word corpus (91% of original 228695, drops 19465)\n",
      "2018-07-10 22:20:56,416 : INFO : deleting the raw counts dictionary of 4668 items\n",
      "2018-07-10 22:20:56,421 : INFO : sample=0.001 downsamples 78 most-common words\n",
      "2018-07-10 22:20:56,422 : INFO : downsampling leaves estimated 128216 word corpus (61.3% of prior 209230)\n",
      "2018-07-10 22:20:56,426 : INFO : estimated required memory for 527 words and 300 dimensions: 1528300 bytes\n",
      "2018-07-10 22:20:56,433 : INFO : resetting layer weights\n",
      "2018-07-10 22:20:56,450 : INFO : training model with 4 workers on 527 vocabulary and 300 features, using sg=0 hs=0 sample=0.001 negative=5 window=10\n",
      "2018-07-10 22:20:56,626 : INFO : worker thread finished; awaiting finish of 3 more threads\n",
      "2018-07-10 22:20:56,627 : INFO : worker thread finished; awaiting finish of 2 more threads\n",
      "2018-07-10 22:20:56,633 : INFO : worker thread finished; awaiting finish of 1 more threads\n",
      "2018-07-10 22:20:56,636 : INFO : worker thread finished; awaiting finish of 0 more threads\n",
      "2018-07-10 22:20:56,637 : INFO : EPOCH - 1 : training on 228695 raw words (128185 effective words) took 0.2s, 801606 effective words/s\n",
      "2018-07-10 22:20:56,809 : INFO : worker thread finished; awaiting finish of 3 more threads\n",
      "2018-07-10 22:20:56,813 : INFO : worker thread finished; awaiting finish of 2 more threads\n",
      "2018-07-10 22:20:56,821 : INFO : worker thread finished; awaiting finish of 1 more threads\n",
      "2018-07-10 22:20:56,824 : INFO : worker thread finished; awaiting finish of 0 more threads\n",
      "2018-07-10 22:20:56,825 : INFO : EPOCH - 2 : training on 228695 raw words (128307 effective words) took 0.2s, 724899 effective words/s\n",
      "2018-07-10 22:20:57,005 : INFO : worker thread finished; awaiting finish of 3 more threads\n",
      "2018-07-10 22:20:57,009 : INFO : worker thread finished; awaiting finish of 2 more threads\n",
      "2018-07-10 22:20:57,022 : INFO : worker thread finished; awaiting finish of 1 more threads\n",
      "2018-07-10 22:20:57,027 : INFO : worker thread finished; awaiting finish of 0 more threads\n",
      "2018-07-10 22:20:57,028 : INFO : EPOCH - 3 : training on 228695 raw words (128162 effective words) took 0.2s, 680205 effective words/s\n",
      "2018-07-10 22:20:57,200 : INFO : worker thread finished; awaiting finish of 3 more threads\n",
      "2018-07-10 22:20:57,207 : INFO : worker thread finished; awaiting finish of 2 more threads\n",
      "2018-07-10 22:20:57,215 : INFO : worker thread finished; awaiting finish of 1 more threads\n",
      "2018-07-10 22:20:57,219 : INFO : worker thread finished; awaiting finish of 0 more threads\n",
      "2018-07-10 22:20:57,221 : INFO : EPOCH - 4 : training on 228695 raw words (128314 effective words) took 0.2s, 708878 effective words/s\n",
      "2018-07-10 22:20:57,405 : INFO : worker thread finished; awaiting finish of 3 more threads\n",
      "2018-07-10 22:20:57,406 : INFO : worker thread finished; awaiting finish of 2 more threads\n",
      "2018-07-10 22:20:57,414 : INFO : worker thread finished; awaiting finish of 1 more threads\n",
      "2018-07-10 22:20:57,418 : INFO : worker thread finished; awaiting finish of 0 more threads\n",
      "2018-07-10 22:20:57,419 : INFO : EPOCH - 5 : training on 228695 raw words (127976 effective words) took 0.2s, 684921 effective words/s\n",
      "2018-07-10 22:20:57,420 : INFO : training on a 1143475 raw words (640944 effective words) took 1.0s, 660866 effective words/s\n",
      "2018-07-10 22:20:57,422 : INFO : precomputing L2-norms of word weight vectors\n",
      "2018-07-10 22:20:57,432 : INFO : saving Word2Vec object under 300features_40minwords_10context, separately None\n",
      "2018-07-10 22:20:57,436 : INFO : not storing attribute vectors_norm\n",
      "2018-07-10 22:20:57,439 : INFO : not storing attribute cum_table\n",
      "2018-07-10 22:20:57,455 : INFO : saved 300features_40minwords_10context\n"
     ]
    }
   ],
   "source": [
    "model = word2vec.Word2Vec(sentences, workers=num_workers,\n",
    "            size=num_features, min_count = min_word_count,\n",
    "            window = context, sample = downsampling)\n",
    "model.init_sims(replace=True)\n",
    "model_name = \"300features_40minwords_10context\"\n",
    "model.save(model_name)"
   ]
  },
  {
   "cell_type": "code",
   "execution_count": 42,
   "metadata": {},
   "outputs": [
    {
     "name": "stderr",
     "output_type": "stream",
     "text": [
      "/usr/lib/python3/dist-packages/ipykernel_launcher.py:1: DeprecationWarning: Call to deprecated `doesnt_match` (Method will be removed in 4.0.0, use self.wv.doesnt_match() instead).\n",
      "  \"\"\"Entry point for launching an IPython kernel.\n",
      "2018-07-10 22:22:08,550 : WARNING : vectors for words {'pribadi'} are not present in the model, ignoring these words\n"
     ]
    },
    {
     "data": {
      "text/plain": [
       "'genggam'"
      ]
     },
     "execution_count": 42,
     "metadata": {},
     "output_type": "execute_result"
    }
   ],
   "source": [
    "model.doesnt_match(\"telepon genggam pribadi\".split())"
   ]
  },
  {
   "cell_type": "code",
   "execution_count": 43,
   "metadata": {},
   "outputs": [
    {
     "name": "stderr",
     "output_type": "stream",
     "text": [
      "/usr/lib/python3/dist-packages/ipykernel_launcher.py:1: DeprecationWarning: Call to deprecated `most_similar` (Method will be removed in 4.0.0, use self.wv.most_similar() instead).\n",
      "  \"\"\"Entry point for launching an IPython kernel.\n"
     ]
    },
    {
     "data": {
      "text/plain": [
       "[('lex', 0.8758602142333984),\n",
       " ('express', 0.7913638949394226),\n",
       " ('ninja', 0.7905889749526978),\n",
       " ('antar', 0.7631889581680298),\n",
       " ('rumah', 0.7550110816955566),\n",
       " ('one', 0.7262083292007446),\n",
       " ('ramah', 0.7044457793235779),\n",
       " ('layan', 0.6636135578155518),\n",
       " ('bayar', 0.6461251378059387),\n",
       " ('tempat', 0.6450743079185486)]"
      ]
     },
     "execution_count": 43,
     "metadata": {},
     "output_type": "execute_result"
    }
   ],
   "source": [
    "model.most_similar(\"kurir\")"
   ]
  },
  {
   "cell_type": "code",
   "execution_count": 44,
   "metadata": {},
   "outputs": [
    {
     "name": "stderr",
     "output_type": "stream",
     "text": [
      "/usr/lib/python3/dist-packages/ipykernel_launcher.py:1: DeprecationWarning: Call to deprecated `most_similar` (Method will be removed in 4.0.0, use self.wv.most_similar() instead).\n",
      "  \"\"\"Entry point for launching an IPython kernel.\n"
     ]
    },
    {
     "data": {
      "text/plain": [
       "[('jiwa', 0.8805218935012817),\n",
       " ('pokok', 0.8550896644592285),\n",
       " ('keren', 0.8377587795257568),\n",
       " ('rekomendasi', 0.8309886455535889),\n",
       " ('ekspektasi', 0.7913753986358643),\n",
       " ('atas', 0.7903497815132141),\n",
       " ('elegan', 0.7794321775436401),\n",
       " ('riah', 0.7775986790657043),\n",
       " ('oke', 0.7714241147041321),\n",
       " ('jangkau', 0.7655647397041321)]"
      ]
     },
     "execution_count": 44,
     "metadata": {},
     "output_type": "execute_result"
    }
   ],
   "source": [
    "model.most_similar(\"mantap\")"
   ]
  },
  {
   "cell_type": "code",
   "execution_count": 45,
   "metadata": {},
   "outputs": [
    {
     "name": "stderr",
     "output_type": "stream",
     "text": [
      "/usr/lib/python3/dist-packages/ipykernel_launcher.py:1: DeprecationWarning: Call to deprecated `most_similar` (Method will be removed in 4.0.0, use self.wv.most_similar() instead).\n",
      "  \"\"\"Entry point for launching an IPython kernel.\n"
     ]
    },
    {
     "data": {
      "text/plain": [
       "[('lazada', 0.7417013049125671),\n",
       " ('darat', 0.6755008101463318),\n",
       " ('selamat', 0.6323566436767578),\n",
       " ('gawai', 0.6299276947975159),\n",
       " ('tuju', 0.6015115976333618),\n",
       " ('kamu', 0.5913076400756836),\n",
       " ('kerja', 0.5676023364067078),\n",
       " ('selera', 0.5665611624717712),\n",
       " ('jaya', 0.5631452798843384),\n",
       " ('alhamdulilah', 0.548073410987854)]"
      ]
     },
     "execution_count": 45,
     "metadata": {},
     "output_type": "execute_result"
    }
   ],
   "source": [
    "model.most_similar(\"terima\")"
   ]
  },
  {
   "cell_type": "code",
   "execution_count": 46,
   "metadata": {},
   "outputs": [
    {
     "name": "stderr",
     "output_type": "stream",
     "text": [
      "/usr/lib/python3/dist-packages/ipykernel_launcher.py:1: DeprecationWarning: Call to deprecated `most_similar` (Method will be removed in 4.0.0, use self.wv.most_similar() instead).\n",
      "  \"\"\"Entry point for launching an IPython kernel.\n"
     ]
    },
    {
     "data": {
      "text/plain": [
       "[('gawai', 0.6962838172912598),\n",
       " ('selera', 0.6405074596405029),\n",
       " ('sukses', 0.6117714643478394),\n",
       " ('jaya', 0.5894997715950012),\n",
       " ('makin', 0.5744777917861938),\n",
       " ('lazada', 0.560572624206543),\n",
       " ('maju', 0.556810736656189),\n",
       " ('belanja', 0.5544381141662598),\n",
       " ('selalu', 0.5421640276908875),\n",
       " ('dan', 0.5401619672775269)]"
      ]
     },
     "execution_count": 46,
     "metadata": {},
     "output_type": "execute_result"
    }
   ],
   "source": [
    "model.most_similar(\"kasih\")"
   ]
  },
  {
   "cell_type": "code",
   "execution_count": 47,
   "metadata": {},
   "outputs": [
    {
     "name": "stderr",
     "output_type": "stream",
     "text": [
      "/usr/lib/python3/dist-packages/ipykernel_launcher.py:1: DeprecationWarning: Call to deprecated `most_similar` (Method will be removed in 4.0.0, use self.wv.most_similar() instead).\n",
      "  \"\"\"Entry point for launching an IPython kernel.\n"
     ]
    },
    {
     "data": {
      "text/plain": [
       "[('cewek', 0.9727684259414673),\n",
       " ('kaya', 0.9525511860847473),\n",
       " ('cowok', 0.9371239542961121),\n",
       " ('tali', 0.9338981509208679),\n",
       " ('jarum', 0.9326016902923584),\n",
       " ('sedih', 0.9300791025161743),\n",
       " ('putus', 0.9272193908691406),\n",
       " ('belah', 0.918164849281311),\n",
       " ('belakang', 0.9142349362373352),\n",
       " ('dipake', 0.9119396805763245)]"
      ]
     },
     "execution_count": 47,
     "metadata": {},
     "output_type": "execute_result"
    }
   ],
   "source": [
    "model.most_similar(\"jelek\")"
   ]
  },
  {
   "cell_type": "code",
   "execution_count": 48,
   "metadata": {},
   "outputs": [
    {
     "name": "stderr",
     "output_type": "stream",
     "text": [
      "/usr/lib/python3/dist-packages/ipykernel_launcher.py:1: DeprecationWarning: Call to deprecated `most_similar` (Method will be removed in 4.0.0, use self.wv.most_similar() instead).\n",
      "  \"\"\"Entry point for launching an IPython kernel.\n"
     ]
    },
    {
     "data": {
      "text/plain": [
       "[('pernah', 0.8381374478340149),\n",
       " ('alas', 0.7752129435539246),\n",
       " ('customer', 0.764339804649353),\n",
       " ('jual', 0.7579182982444763),\n",
       " ('tipu', 0.7397640943527222),\n",
       " ('tolong', 0.7291659116744995),\n",
       " ('sama', 0.7271352410316467),\n",
       " ('keluh', 0.7217822074890137),\n",
       " ('ambil', 0.7212169766426086),\n",
       " ('rusak', 0.7170406579971313)]"
      ]
     },
     "execution_count": 48,
     "metadata": {},
     "output_type": "execute_result"
    }
   ],
   "source": [
    "model.most_similar(\"kecewa\")"
   ]
  },
  {
   "cell_type": "code",
   "execution_count": null,
   "metadata": {},
   "outputs": [],
   "source": []
  }
 ],
 "metadata": {
  "kernelspec": {
   "display_name": "Python 3",
   "language": "python",
   "name": "python3"
  },
  "language_info": {
   "codemirror_mode": {
    "name": "ipython",
    "version": 3
   },
   "file_extension": ".py",
   "mimetype": "text/x-python",
   "name": "python",
   "nbconvert_exporter": "python",
   "pygments_lexer": "ipython3",
   "version": "3.6.5"
  }
 },
 "nbformat": 4,
 "nbformat_minor": 2
}
