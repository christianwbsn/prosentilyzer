{
 "cells": [
  {
   "cell_type": "markdown",
   "metadata": {},
   "source": [
    "# Lazada Product Review Data In Brief\n",
    "----\n",
    "## Description\n",
    "First step of data exploration. Understanding data dan explore macro-characteristic of the data that we have to deal with\n",
    "\n",
    "## Author\n",
    "+ [Christian Wibisono](https://www.kaggle.com/christianwbsn)"
   ]
  },
  {
   "cell_type": "code",
   "execution_count": 1,
   "metadata": {},
   "outputs": [],
   "source": [
    "import pandas as pd\n",
    "import numpy as np"
   ]
  },
  {
   "cell_type": "code",
   "execution_count": 2,
   "metadata": {},
   "outputs": [],
   "source": [
    "raw = pd.read_csv( \"../data/raw/lazada_reviews.csv\")"
   ]
  },
  {
   "cell_type": "code",
   "execution_count": 3,
   "metadata": {},
   "outputs": [
    {
     "data": {
      "text/html": [
       "<div>\n",
       "<style scoped>\n",
       "    .dataframe tbody tr th:only-of-type {\n",
       "        vertical-align: middle;\n",
       "    }\n",
       "\n",
       "    .dataframe tbody tr th {\n",
       "        vertical-align: top;\n",
       "    }\n",
       "\n",
       "    .dataframe thead th {\n",
       "        text-align: right;\n",
       "    }\n",
       "</style>\n",
       "<table border=\"1\" class=\"dataframe\">\n",
       "  <thead>\n",
       "    <tr style=\"text-align: right;\">\n",
       "      <th></th>\n",
       "      <th>rating</th>\n",
       "      <th>review</th>\n",
       "    </tr>\n",
       "  </thead>\n",
       "  <tbody>\n",
       "    <tr>\n",
       "      <th>0</th>\n",
       "      <td>1</td>\n",
       "      <td>pengiriman melalui NINJA sangattttt lamaaaa. j...</td>\n",
       "    </tr>\n",
       "    <tr>\n",
       "      <th>1</th>\n",
       "      <td>1</td>\n",
       "      <td>pesananku pada no order ini terkirim dgn baik....</td>\n",
       "    </tr>\n",
       "    <tr>\n",
       "      <th>2</th>\n",
       "      <td>5</td>\n",
       "      <td>ga sia sia susah payah ikutan flashsale akhirn...</td>\n",
       "    </tr>\n",
       "    <tr>\n",
       "      <th>3</th>\n",
       "      <td>5</td>\n",
       "      <td>Setelah 7 kali gagal flashsale, akhirnya dapat...</td>\n",
       "    </tr>\n",
       "    <tr>\n",
       "      <th>4</th>\n",
       "      <td>5</td>\n",
       "      <td>saya kurang setuju dengan FS, memang sih untuk...</td>\n",
       "    </tr>\n",
       "  </tbody>\n",
       "</table>\n",
       "</div>"
      ],
      "text/plain": [
       "   rating                                             review\n",
       "0       1  pengiriman melalui NINJA sangattttt lamaaaa. j...\n",
       "1       1  pesananku pada no order ini terkirim dgn baik....\n",
       "2       5  ga sia sia susah payah ikutan flashsale akhirn...\n",
       "3       5  Setelah 7 kali gagal flashsale, akhirnya dapat...\n",
       "4       5  saya kurang setuju dengan FS, memang sih untuk..."
      ]
     },
     "execution_count": 3,
     "metadata": {},
     "output_type": "execute_result"
    }
   ],
   "source": [
    "raw.head()"
   ]
  },
  {
   "cell_type": "markdown",
   "metadata": {},
   "source": [
    "As we can see the data contain 2 columns *rating* and *review*"
   ]
  },
  {
   "cell_type": "code",
   "execution_count": 4,
   "metadata": {},
   "outputs": [
    {
     "name": "stdout",
     "output_type": "stream",
     "text": [
      "<class 'pandas.core.frame.DataFrame'>\n",
      "RangeIndex: 280803 entries, 0 to 280802\n",
      "Data columns (total 2 columns):\n",
      "rating    280803 non-null int64\n",
      "review    220233 non-null object\n",
      "dtypes: int64(1), object(1)\n",
      "memory usage: 4.3+ MB\n"
     ]
    }
   ],
   "source": [
    "raw.info()"
   ]
  },
  {
   "cell_type": "markdown",
   "metadata": {},
   "source": [
    "1. rating: numerical (1-5)\n",
    "2. review: text\n",
    "----\n",
    "We have 280803 data points but there are 60570 missing values in review column.\n",
    "Since our objective is to do **sentiment analysis** on text data, those missing value will be dropped later.\n",
    "Those missing values couldn't tell us anything about the data"
   ]
  },
  {
   "cell_type": "markdown",
   "metadata": {},
   "source": [
    "## Characteristic Of Marketplace Product Review in Bahasa Indonesia "
   ]
  },
  {
   "cell_type": "code",
   "execution_count": 5,
   "metadata": {},
   "outputs": [
    {
     "data": {
      "text/plain": [
       "0    pengiriman melalui NINJA sangattttt lamaaaa. j...\n",
       "1    pesananku pada no order ini terkirim dgn baik....\n",
       "2    ga sia sia susah payah ikutan flashsale akhirn...\n",
       "3    Setelah 7 kali gagal flashsale, akhirnya dapat...\n",
       "4    saya kurang setuju dengan FS, memang sih untuk...\n",
       "5    kurir ninja express leleeeeetttt\\nkecewa,,\\nke...\n",
       "6    Pengiriman ke kota Depok membutuhkan 11 hari t...\n",
       "7    Barang udah nyampe...cuma lama banget mending ...\n",
       "8    saran tolong pengitiman paket saya jng melalui...\n",
       "9    Hp xiomi emng OK..cepat nyampe,kurir ramah..te...\n",
       "Name: review, dtype: object"
      ]
     },
     "execution_count": 5,
     "metadata": {},
     "output_type": "execute_result"
    }
   ],
   "source": [
    "raw['review'][:10]"
   ]
  },
  {
   "cell_type": "markdown",
   "metadata": {},
   "source": [
    "## 1.Informal words"
   ]
  },
  {
   "cell_type": "code",
   "execution_count": 6,
   "metadata": {},
   "outputs": [
    {
     "name": "stdout",
     "output_type": "stream",
     "text": [
      "ga sia sia susah payah ikutan flashsale akhirnya dapet juga,walaupun harganya naik... turunin lg dong garganya... overall... sip mantab,thank lazada thank xiaomi redmi 5a!!!\n",
      "---------------\n",
      "Barang udah nyampe...cuma lama banget mending pake expedisi yg bisa dipercaya...pake LEX ID jgn pake Ninjavanid I'd lama\n"
     ]
    }
   ],
   "source": [
    "print(raw['review'][2])\n",
    "print(\"---------------\")\n",
    "print(raw['review'][7])"
   ]
  },
  {
   "cell_type": "markdown",
   "metadata": {},
   "source": [
    "Data contain words in slang words such as:\n",
    "+ *ga* --> tidak\n",
    "+ *mantab* --> mantap\n",
    "+ *nyampe* --> sampai"
   ]
  },
  {
   "cell_type": "markdown",
   "metadata": {},
   "source": [
    "## 2. Abbreviation"
   ]
  },
  {
   "cell_type": "code",
   "execution_count": 7,
   "metadata": {},
   "outputs": [
    {
     "name": "stdout",
     "output_type": "stream",
     "text": [
      "beli flash sale xiaomi redmi 5A + powerbank, knp yg dateng cuma hpnya aja? pdahal bayar sepaket sama powerbank.\n",
      "---------------\n",
      "Barangnya sudah sampai secara cepat dan tepat, tp sayang saya pesan 2 item yg 1 item kok dibatalkan sepihak oleh lazada ☹️\n"
     ]
    }
   ],
   "source": [
    "print(raw['review'][10])\n",
    "print(\"---------------\")\n",
    "print(raw['review'][11])"
   ]
  },
  {
   "cell_type": "markdown",
   "metadata": {},
   "source": [
    "Data contain abbreviation i.e:\n",
    "+ *knp* --> kenapa\n",
    "+ *yg* --> yang\n",
    "+ *tp* --> tapi"
   ]
  },
  {
   "cell_type": "markdown",
   "metadata": {},
   "source": [
    "## 3. Foreign Word"
   ]
  },
  {
   "cell_type": "code",
   "execution_count": 8,
   "metadata": {},
   "outputs": [
    {
     "name": "stdout",
     "output_type": "stream",
     "text": [
      "Barang bagus sesuai dengan gambar, packing rapi, kualitas bagus sesuai harga, pengiriman sesuai jadwal, recomended seller.\n",
      "---------------\n",
      "Flash Sale TERBAIK!!!!\n",
      "pesan kemarin, hari ini langsung diterima..\n",
      "Terimakasih Lazada, happy birthday!!!\n"
     ]
    }
   ],
   "source": [
    "print(raw['review'][30])\n",
    "print(\"---------------\")\n",
    "print(raw['review'][19])"
   ]
  },
  {
   "cell_type": "markdown",
   "metadata": {},
   "source": [
    "Data contain foreign languange i.e:\n",
    "+ *seller* --> penjual\n",
    "+ *packing* --> pengemasan\n",
    "+ *recommended* --> direkomendasikan\n",
    "+ *happy birthday* --> selamat ulang tahun"
   ]
  },
  {
   "cell_type": "markdown",
   "metadata": {},
   "source": [
    "## 4. Domain Spesific Word"
   ]
  },
  {
   "cell_type": "code",
   "execution_count": 9,
   "metadata": {},
   "outputs": [
    {
     "name": "stdout",
     "output_type": "stream",
     "text": [
      "beli flash sale xiaomi redmi 5A + powerbank, knp yg dateng cuma hpnya aja? pdahal bayar sepaket sama powerbank.\n",
      "---------------\n",
      "Bulan lalu dpet Redmi 5 plus gold dan item, skrng dapet pagi Redmi 5A, ga ragu lagi belanja di Lazada\n"
     ]
    }
   ],
   "source": [
    "print(raw['review'][10])\n",
    "print(\"---------------\")\n",
    "print(raw['review'][14])"
   ]
  },
  {
   "cell_type": "markdown",
   "metadata": {},
   "source": [
    "Our domain: Marketplace Product Review \n",
    "Data contain domain spesific word i.e:\n",
    "+ *flash sale*\n",
    "+ *xiaomi*\n",
    "+ *lazada*\n",
    "+ *redmi*\n",
    "+ *powerbank*"
   ]
  },
  {
   "cell_type": "markdown",
   "metadata": {},
   "source": [
    "## 5. Emoji"
   ]
  },
  {
   "cell_type": "code",
   "execution_count": 10,
   "metadata": {},
   "outputs": [
    {
     "name": "stdout",
     "output_type": "stream",
     "text": [
      "proses waktu pengiriman setelah pemesanan sangat cepat, kurang dari 2 hari xiaomi redmi 5A sudah on hand,\n",
      "\n",
      "packing rapih tidak ada cacat barang saat diterima, terima kasih LAZADA 😀\n",
      "---------------\n",
      "kecewa baru dapat ,krna harga naik 😃😃..pengiriman super cepat sehari nyampe..pakai kurir tiki..semoga barang awet\n"
     ]
    }
   ],
   "source": [
    "print(raw['review'][12])\n",
    "print(\"---------------\")\n",
    "print(raw['review'][31])"
   ]
  },
  {
   "cell_type": "markdown",
   "metadata": {},
   "source": [
    "# 😃"
   ]
  },
  {
   "cell_type": "markdown",
   "metadata": {},
   "source": [
    "This is the example of emoji found in our dataset"
   ]
  },
  {
   "cell_type": "markdown",
   "metadata": {},
   "source": [
    "## 6. Emoticon"
   ]
  },
  {
   "cell_type": "code",
   "execution_count": 11,
   "metadata": {},
   "outputs": [
    {
     "name": "stdout",
     "output_type": "stream",
     "text": [
      "Barang bagus, pengiriman cepat.. hanya dpt di flash sale harus cepat2 standby di layar kmputer or di Hp... hehhe... :)\n",
      "---------------\n",
      "so far baik2 aja sih kayaknya, tapi karena yang 2 mengecewakan jadi saya kecewa :(\n"
     ]
    }
   ],
   "source": [
    "print(raw['review'][82])\n",
    "print(\"---------------\")\n",
    "print(raw['review'][280323])"
   ]
  },
  {
   "cell_type": "markdown",
   "metadata": {},
   "source": [
    "## :( sad or happy :)"
   ]
  },
  {
   "cell_type": "markdown",
   "metadata": {},
   "source": [
    "## 7. Interjection"
   ]
  },
  {
   "cell_type": "code",
   "execution_count": 12,
   "metadata": {},
   "outputs": [
    {
     "name": "stdout",
     "output_type": "stream",
     "text": [
      "Barangnya bagus melebihi redmi 4A. meskipun saya dpt nya bukan yg flash sale. kwkwk\n",
      "---------------\n",
      "Saya sudah order sekitar 10 menit yg lalu,sampai sekarang barang belum datang juga\r\n",
      "\r\n",
      "\r\n",
      "\r\n",
      "\r\n",
      "Hahahaha\n"
     ]
    }
   ],
   "source": [
    "print(raw['review'][12983])\n",
    "print(\"---------------\")\n",
    "print(raw['review'][222677])"
   ]
  },
  {
   "cell_type": "markdown",
   "metadata": {},
   "source": [
    "Data contain interjection such as:\n",
    "+ **wkwkwk**\n",
    "+ **Hahahaha**"
   ]
  },
  {
   "cell_type": "markdown",
   "metadata": {},
   "source": [
    "## 8. Typographical Error"
   ]
  },
  {
   "cell_type": "code",
   "execution_count": 13,
   "metadata": {},
   "outputs": [
    {
     "name": "stdout",
     "output_type": "stream",
     "text": [
      "lazadaa ituuu kadangh lamaa pengirimannya kadang cepeett...lazada ituuu rawan salah harga dan rawan cansel\n",
      "---------------\n",
      "saran tolong pengitiman paket saya jng melaluin jasa penitiman ninja expres lg. paket lama sampai nya.\n"
     ]
    }
   ],
   "source": [
    "print(raw['review'][15])\n",
    "print(\"---------------\")\n",
    "print(raw['review'][8])"
   ]
  },
  {
   "cell_type": "markdown",
   "metadata": {},
   "source": [
    "There are so **many** typographical error in our dataset. Single review can contain more than one typos\n",
    "+ kadang**h** --> kadang(addition)\n",
    "+ can**s**el --> cancel(replace)\n",
    "+ pen**it**iman --> pengiriman(deletion,transposition,replace)\n",
    "+ melalui**n** --> melalui(addition)"
   ]
  },
  {
   "cell_type": "markdown",
   "metadata": {},
   "source": [
    "## 9. Irrelevant Text"
   ]
  },
  {
   "cell_type": "code",
   "execution_count": 14,
   "metadata": {},
   "outputs": [
    {
     "name": "stdout",
     "output_type": "stream",
     "text": [
      "#2019gantipresiden\n",
      "---------------\n",
      "follow my instagram :\n",
      "@nahlaa05\n",
      "@nahlaasafaa\n",
      "@nahlaam_\n",
      "nanti bakal di follback kok \n",
      " - oh ya btw squishy nya bagus\n",
      "---------------\n",
      "om telolet om Om telolet om Om telolet om Om telolet om Om telolet om Om telolet om Om telolet om Om telolet om Om telolet om Om telolet om Om telolet om Om telolet om Om telolet om Om telolet om Om telolet\n"
     ]
    }
   ],
   "source": [
    "print(raw['review'][1639])\n",
    "print(\"---------------\")\n",
    "print(raw['review'][224544])\n",
    "print(\"---------------\")\n",
    "print(raw['review'][80])"
   ]
  },
  {
   "cell_type": "markdown",
   "metadata": {},
   "source": [
    "## 10. Completely Not in Bahasa"
   ]
  },
  {
   "cell_type": "code",
   "execution_count": 15,
   "metadata": {},
   "outputs": [
    {
     "name": "stdout",
     "output_type": "stream",
     "text": [
      "the only downside about this transaction was the difficult to get it in flash sale..\n",
      "but it paid off when you success.. and courier man Mas Suryadi was very helpful\n",
      "---------------\n",
      "Over all good.\n"
     ]
    }
   ],
   "source": [
    "print(raw['review'][75])\n",
    "print(\"---------------\")\n",
    "print(raw['review'][551])"
   ]
  },
  {
   "cell_type": "markdown",
   "metadata": {},
   "source": [
    "## 11. Creative Isn't it?"
   ]
  },
  {
   "cell_type": "code",
   "execution_count": 16,
   "metadata": {},
   "outputs": [
    {
     "name": "stdout",
     "output_type": "stream",
     "text": [
      "harga naik 100.000 tapi tetap....\n",
      "╔══╦═╦═╦══╦═╦═╦╦╦╗\n",
      "║║║║║║║╠╗╔╣║║║║║║║\n",
      "║║║║╦║║║║║║╦║╔╬╬╬╣\n",
      "╚╩╩╩╩╩╩╝╚╝╚╩╩╝╚╩╩╝\n",
      "---------------\n",
      ".╔══╗═════╔╗═════.\n",
      ".╚╗╔╬═╦═╦═╣╠╦╦╦╦╗.\n",
      ".═║║║╩╣║║╬║═╣║║║║.\n",
      ".═╚╝╚═╩╩╬╗╠╩╬╗╠═╝.\n",
      ".═══════╚═╝═╚═╝══.\n"
     ]
    }
   ],
   "source": [
    "print(raw['review'][38])\n",
    "print(\"---------------\")\n",
    "print(raw['review'][21677])"
   ]
  },
  {
   "cell_type": "markdown",
   "metadata": {},
   "source": [
    "## 12. Local *'Slang'* Words"
   ]
  },
  {
   "cell_type": "code",
   "execution_count": 17,
   "metadata": {},
   "outputs": [
    {
     "name": "stdout",
     "output_type": "stream",
     "text": [
      "Josh gondos top markotop mantap surantap\n",
      "---------------\n",
      "SIP MARKUSIP .....\n"
     ]
    }
   ],
   "source": [
    "print(raw['review'][17719])\n",
    "print(\"---------------\")\n",
    "print(raw['review'][17025])"
   ]
  },
  {
   "cell_type": "markdown",
   "metadata": {},
   "source": [
    "## 13. Unstandardized Words"
   ]
  },
  {
   "cell_type": "code",
   "execution_count": 18,
   "metadata": {},
   "outputs": [
    {
     "name": "stdout",
     "output_type": "stream",
     "text": [
      "pengiriman melalui NINJA sangattttt lamaaaa. jauh berbeda dengan kurir internal lazada. lebih baik kasih opsi ke pelanggan agar bisa memilih kurir.\n",
      "---------------\n",
      "kurir ninja express leleeeeetttt\n",
      "kecewa,,\n",
      "kenapa sih Lazada masih mau bekerja sama dengan kurir siput ituuuuu\n",
      "🐌🐌🐌🐌🐌\n"
     ]
    }
   ],
   "source": [
    "print(raw['review'][0])\n",
    "print(\"---------------\")\n",
    "print(raw['review'][5])"
   ]
  },
  {
   "cell_type": "markdown",
   "metadata": {},
   "source": [
    "+ Sangatttttt --> sangat\n",
    "+ lamaaaaaa --> lama\n",
    "+ leleeeeeetttt --> lelet\n",
    "+ ituuuuuuuu --> itu"
   ]
  },
  {
   "cell_type": "markdown",
   "metadata": {},
   "source": [
    "## 14. Meaningless Words"
   ]
  },
  {
   "cell_type": "code",
   "execution_count": 19,
   "metadata": {},
   "outputs": [
    {
     "name": "stdout",
     "output_type": "stream",
     "text": [
      "Yb km yg v yyo hcy\n",
      "---------------\n",
      "Vjcvcv\n",
      "---------------\n",
      "E\n",
      "---------------\n",
      "Qa\n"
     ]
    }
   ],
   "source": [
    "print(raw['review'][224432])\n",
    "print(\"---------------\")\n",
    "print(raw['review'][279396])\n",
    "print(\"---------------\")\n",
    "print(raw['review'][279404])\n",
    "print(\"---------------\")\n",
    "print(raw['review'][279403])"
   ]
  },
  {
   "cell_type": "markdown",
   "metadata": {},
   "source": [
    "Know the meaning of those word? email me: [christian.wibisono7@gmail.com](mailto:christian.wibisono7@gmail.com)"
   ]
  },
  {
   "cell_type": "markdown",
   "metadata": {},
   "source": [
    "## 15. Inconsistent Rating and Review"
   ]
  },
  {
   "cell_type": "code",
   "execution_count": 20,
   "metadata": {},
   "outputs": [
    {
     "name": "stdout",
     "output_type": "stream",
     "text": [
      "Rating 4:DUIT REFUND 2.5 JT DI TILEP EMBAT LAZADA. ANJG\n",
      "---------------\n",
      "Rating 1:hp sangat keren.. setiap minggu saya pasti beli.. terimakasih lazada..\n"
     ]
    }
   ],
   "source": [
    "print(\"Rating \" + str(raw['rating'][6970]) + \":\" + raw['review'][6970])\n",
    "print(\"---------------\")\n",
    "print(\"Rating \" + str(raw['rating'][15908]) + \":\" + raw['review'][15908])"
   ]
  },
  {
   "cell_type": "markdown",
   "metadata": {},
   "source": [
    "Both condition appears in our dataset:\n",
    "+ Positive review with negative rating\n",
    "+ Negative review with positive rating\n",
    "\n",
    "This condition can led to incorrectly labelled data"
   ]
  },
  {
   "cell_type": "markdown",
   "metadata": {},
   "source": [
    "## 16. Reversed Words"
   ]
  },
  {
   "cell_type": "code",
   "execution_count": 21,
   "metadata": {},
   "outputs": [
    {
     "name": "stdout",
     "output_type": "stream",
     "text": [
      "Pilihan mantap buat para gadgeters!\r\n",
      "Kuy\n",
      "---------------\n"
     ]
    }
   ],
   "source": [
    "print(raw['review'][228587])\n",
    "print(\"---------------\")"
   ]
  },
  {
   "cell_type": "markdown",
   "metadata": {},
   "source": [
    "+ Kuy --> Yuk (reversed letter by letter)"
   ]
  }
 ],
 "metadata": {
  "kernelspec": {
   "display_name": "Python 3",
   "language": "python",
   "name": "python3"
  },
  "language_info": {
   "codemirror_mode": {
    "name": "ipython",
    "version": 3
   },
   "file_extension": ".py",
   "mimetype": "text/x-python",
   "name": "python",
   "nbconvert_exporter": "python",
   "pygments_lexer": "ipython3",
   "version": "3.6.5"
  }
 },
 "nbformat": 4,
 "nbformat_minor": 2
}
